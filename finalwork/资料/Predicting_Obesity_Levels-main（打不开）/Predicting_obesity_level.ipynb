{
  "nbformat": 4,
  "nbformat_minor": 0,
  "metadata": {
    "colab": {
      "name": "Predicting obesity levels based on eating habits and physical condition.ipynb",
      "provenance": [],
      "collapsed_sections": [
        "14GuwlTho-Cb"
      ]
    },
    "kernelspec": {
      "display_name": "Python 3",
      "name": "python3"
    }
  },
  "cells": [
    {
      "cell_type": "markdown",
      "metadata": {
        "id": "14GuwlTho-Cb"
      },
      "source": [
        "# **Predicting obesity levels based on eating habits and physical condition**\r\n",
        "\r\n"
      ]
    },
    {
      "cell_type": "markdown",
      "metadata": {
        "id": "hpZlgTar9tiX"
      },
      "source": [
        "# **Problem statement** "
      ]
    },
    {
      "cell_type": "markdown",
      "metadata": {
        "id": "3wMoEONwBsuX"
      },
      "source": [
        "According to [WHO](https://www.who.int/health-topics/obesity#tab=tab_1\r\n",
        ") verweight and obesity are defined as abnormal or excessive fat accumulation that presents a risk to health. A body mass index (BMI) over 25 is considered overweight, and over 30 is obese.  According to NHS.UK, being obese can increase the risk of developing many potentially serious health conditions, including: type 2 diabetes, high blood pressure, high cholesterol and atherosclerosis (where fatty deposits narrow your arteries), which can lead to coronary heart disease and stroke. As a result, the collaborative efforts to understand overweight and obesity as well as to promote healthy weight is an area to be reasearched on."
      ]
    },
    {
      "cell_type": "markdown",
      "metadata": {
        "id": "bOrCxAsebMpq"
      },
      "source": [
        "This project aims at predicting the obesity level of individuals on a value of 1–7. The [dataset](https://archive.ics.uci.edu/ml/datasets/Estimation+of+obesity+levels+based+on+eating+habits+and+physical+condition+\r\n",
        ") is found from UCI, and includes data for the estimation of obesity levels in individuals based on their eating habits and physical condition in individuals from Colombia, Peru and Mexico. The data contains 17 attributes and 2111 records, the records are labeled with the class variable NObesity (Obesity Level), that allows classification of the data according to their classes/labels. The labels are given as Insufficient Weight, Normal Weight, Overweight Level I, Overweight Level II, Obesity Type I, Obesity Type II and Obesity Type III.\r\n",
        "\r\n",
        "This project aims to predict the obesity level of  given a set of features as inputs. This prediction will  be solved as a classification problem using different classifier algorithms."
      ]
    },
    {
      "cell_type": "markdown",
      "metadata": {
        "id": "Tclpoaco9y0y"
      },
      "source": [
        "The source data can be found: [here](https://archive.ics.uci.edu/ml/datasets/Estimation+of+obesity+levels+based+on+eating+habits+and+physical+condition+)"
      ]
    },
    {
      "cell_type": "code",
      "metadata": {
        "id": "KgvOIuHq4aph"
      },
      "source": [
        "# import libraries and read data\r\n",
        "import warnings\r\n",
        "\r\n",
        "import pandas as pd\r\n",
        "import numpy as np\r\n",
        "\r\n",
        "import seaborn as sns\r\n",
        "import matplotlib.pyplot as plt\r\n",
        "  \r\n",
        "from sklearn.model_selection import train_test_split,GridSearchCV\r\n",
        "from sklearn.preprocessing import OneHotEncoder, StandardScaler\r\n",
        "from sklearn.compose import ColumnTransformer\r\n",
        "\r\n",
        "# from sklearn.pipeline import Pipeline\r\n",
        "from sklearn.linear_model import LogisticRegression\r\n",
        "from sklearn.ensemble import RandomForestClassifier\r\n",
        "from sklearn.neighbors import KNeighborsClassifier\r\n",
        "from sklearn import svm\r\n",
        "\r\n",
        "from sklearn.metrics import  classification_report, confusion_matrix, accuracy_score\r\n",
        "from IPython.display import display\r\n",
        "\r\n",
        "# from sklearn.metrics import accuracy_score\r\n"
      ],
      "execution_count": null,
      "outputs": []
    },
    {
      "cell_type": "code",
      "metadata": {
        "id": "6s4uMnByp2iO"
      },
      "source": [
        "def get_features(correlation_threshold,correlations):\r\n",
        "    abs_corrs = correlations.abs()\r\n",
        "    high_correlations = abs_corrs[abs_corrs > correlation_threshold].index.values.tolist()\r\n",
        "    return high_correlations"
      ],
      "execution_count": null,
      "outputs": []
    },
    {
      "cell_type": "code",
      "metadata": {
        "id": "qxgJVf3MfoYh"
      },
      "source": [
        "# A function to plot a readable confusion matrix found on kaggle's website.\r\n",
        "import itertools\r\n",
        "def plot_confusion_matrix(cm, classes,normalize,\r\n",
        "                          title='Confusion matrix',\r\n",
        "                          cmap=plt.cm.Blues):\r\n",
        "    \"\"\"\r\n",
        "    This function prints and plots the confusion matrix.\r\n",
        "    Normalization can be applied by setting `normalize=True`.\r\n",
        "    \"\"\"\r\n",
        "    if normalize:\r\n",
        "        cm = cm.astype('float') / cm.sum(axis=1)[:, np.newaxis]\r\n",
        "        print(\"Normalized confusion matrix\")\r\n",
        "    else:\r\n",
        "        print('Confusion matrix, without normalization')\r\n",
        "\r\n",
        "    plt.imshow(cm, interpolation='nearest', cmap=cmap)\r\n",
        "    plt.title(title)\r\n",
        "    plt.colorbar()\r\n",
        "    tick_marks = np.arange(len(classes))\r\n",
        "    plt.xticks(tick_marks, classes)\r\n",
        "    plt.yticks(tick_marks, classes)\r\n",
        "    fmt = '.2f' if normalize else 'd'\r\n",
        "    thresh = cm.max() / 2.\r\n",
        "    for i, j in itertools.product(range(cm.shape[0]), range(cm.shape[1])):\r\n",
        "        plt.text(j, i, format(cm[i, j], fmt),\r\n",
        "                 horizontalalignment=\"center\", verticalalignment=\"center\",\r\n",
        "                 color=\"white\" if cm[i, j] > thresh else \"black\")\r\n",
        "    plt.ylabel('True label')\r\n",
        "    plt.xlabel('Predicted label')"
      ],
      "execution_count": null,
      "outputs": []
    },
    {
      "cell_type": "code",
      "metadata": {
        "colab": {
          "resources": {
            "http://localhost:8080/nbextensions/google.colab/files.js": {
              "data": "Ly8gQ29weXJpZ2h0IDIwMTcgR29vZ2xlIExMQwovLwovLyBMaWNlbnNlZCB1bmRlciB0aGUgQXBhY2hlIExpY2Vuc2UsIFZlcnNpb24gMi4wICh0aGUgIkxpY2Vuc2UiKTsKLy8geW91IG1heSBub3QgdXNlIHRoaXMgZmlsZSBleGNlcHQgaW4gY29tcGxpYW5jZSB3aXRoIHRoZSBMaWNlbnNlLgovLyBZb3UgbWF5IG9idGFpbiBhIGNvcHkgb2YgdGhlIExpY2Vuc2UgYXQKLy8KLy8gICAgICBodHRwOi8vd3d3LmFwYWNoZS5vcmcvbGljZW5zZXMvTElDRU5TRS0yLjAKLy8KLy8gVW5sZXNzIHJlcXVpcmVkIGJ5IGFwcGxpY2FibGUgbGF3IG9yIGFncmVlZCB0byBpbiB3cml0aW5nLCBzb2Z0d2FyZQovLyBkaXN0cmlidXRlZCB1bmRlciB0aGUgTGljZW5zZSBpcyBkaXN0cmlidXRlZCBvbiBhbiAiQVMgSVMiIEJBU0lTLAovLyBXSVRIT1VUIFdBUlJBTlRJRVMgT1IgQ09ORElUSU9OUyBPRiBBTlkgS0lORCwgZWl0aGVyIGV4cHJlc3Mgb3IgaW1wbGllZC4KLy8gU2VlIHRoZSBMaWNlbnNlIGZvciB0aGUgc3BlY2lmaWMgbGFuZ3VhZ2UgZ292ZXJuaW5nIHBlcm1pc3Npb25zIGFuZAovLyBsaW1pdGF0aW9ucyB1bmRlciB0aGUgTGljZW5zZS4KCi8qKgogKiBAZmlsZW92ZXJ2aWV3IEhlbHBlcnMgZm9yIGdvb2dsZS5jb2xhYiBQeXRob24gbW9kdWxlLgogKi8KKGZ1bmN0aW9uKHNjb3BlKSB7CmZ1bmN0aW9uIHNwYW4odGV4dCwgc3R5bGVBdHRyaWJ1dGVzID0ge30pIHsKICBjb25zdCBlbGVtZW50ID0gZG9jdW1lbnQuY3JlYXRlRWxlbWVudCgnc3BhbicpOwogIGVsZW1lbnQudGV4dENvbnRlbnQgPSB0ZXh0OwogIGZvciAoY29uc3Qga2V5IG9mIE9iamVjdC5rZXlzKHN0eWxlQXR0cmlidXRlcykpIHsKICAgIGVsZW1lbnQuc3R5bGVba2V5XSA9IHN0eWxlQXR0cmlidXRlc1trZXldOwogIH0KICByZXR1cm4gZWxlbWVudDsKfQoKLy8gTWF4IG51bWJlciBvZiBieXRlcyB3aGljaCB3aWxsIGJlIHVwbG9hZGVkIGF0IGEgdGltZS4KY29uc3QgTUFYX1BBWUxPQURfU0laRSA9IDEwMCAqIDEwMjQ7CgpmdW5jdGlvbiBfdXBsb2FkRmlsZXMoaW5wdXRJZCwgb3V0cHV0SWQpIHsKICBjb25zdCBzdGVwcyA9IHVwbG9hZEZpbGVzU3RlcChpbnB1dElkLCBvdXRwdXRJZCk7CiAgY29uc3Qgb3V0cHV0RWxlbWVudCA9IGRvY3VtZW50LmdldEVsZW1lbnRCeUlkKG91dHB1dElkKTsKICAvLyBDYWNoZSBzdGVwcyBvbiB0aGUgb3V0cHV0RWxlbWVudCB0byBtYWtlIGl0IGF2YWlsYWJsZSBmb3IgdGhlIG5leHQgY2FsbAogIC8vIHRvIHVwbG9hZEZpbGVzQ29udGludWUgZnJvbSBQeXRob24uCiAgb3V0cHV0RWxlbWVudC5zdGVwcyA9IHN0ZXBzOwoKICByZXR1cm4gX3VwbG9hZEZpbGVzQ29udGludWUob3V0cHV0SWQpOwp9CgovLyBUaGlzIGlzIHJvdWdobHkgYW4gYXN5bmMgZ2VuZXJhdG9yIChub3Qgc3VwcG9ydGVkIGluIHRoZSBicm93c2VyIHlldCksCi8vIHdoZXJlIHRoZXJlIGFyZSBtdWx0aXBsZSBhc3luY2hyb25vdXMgc3RlcHMgYW5kIHRoZSBQeXRob24gc2lkZSBpcyBnb2luZwovLyB0byBwb2xsIGZvciBjb21wbGV0aW9uIG9mIGVhY2ggc3RlcC4KLy8gVGhpcyB1c2VzIGEgUHJvbWlzZSB0byBibG9jayB0aGUgcHl0aG9uIHNpZGUgb24gY29tcGxldGlvbiBvZiBlYWNoIHN0ZXAsCi8vIHRoZW4gcGFzc2VzIHRoZSByZXN1bHQgb2YgdGhlIHByZXZpb3VzIHN0ZXAgYXMgdGhlIGlucHV0IHRvIHRoZSBuZXh0IHN0ZXAuCmZ1bmN0aW9uIF91cGxvYWRGaWxlc0NvbnRpbnVlKG91dHB1dElkKSB7CiAgY29uc3Qgb3V0cHV0RWxlbWVudCA9IGRvY3VtZW50LmdldEVsZW1lbnRCeUlkKG91dHB1dElkKTsKICBjb25zdCBzdGVwcyA9IG91dHB1dEVsZW1lbnQuc3RlcHM7CgogIGNvbnN0IG5leHQgPSBzdGVwcy5uZXh0KG91dHB1dEVsZW1lbnQubGFzdFByb21pc2VWYWx1ZSk7CiAgcmV0dXJuIFByb21pc2UucmVzb2x2ZShuZXh0LnZhbHVlLnByb21pc2UpLnRoZW4oKHZhbHVlKSA9PiB7CiAgICAvLyBDYWNoZSB0aGUgbGFzdCBwcm9taXNlIHZhbHVlIHRvIG1ha2UgaXQgYXZhaWxhYmxlIHRvIHRoZSBuZXh0CiAgICAvLyBzdGVwIG9mIHRoZSBnZW5lcmF0b3IuCiAgICBvdXRwdXRFbGVtZW50Lmxhc3RQcm9taXNlVmFsdWUgPSB2YWx1ZTsKICAgIHJldHVybiBuZXh0LnZhbHVlLnJlc3BvbnNlOwogIH0pOwp9CgovKioKICogR2VuZXJhdG9yIGZ1bmN0aW9uIHdoaWNoIGlzIGNhbGxlZCBiZXR3ZWVuIGVhY2ggYXN5bmMgc3RlcCBvZiB0aGUgdXBsb2FkCiAqIHByb2Nlc3MuCiAqIEBwYXJhbSB7c3RyaW5nfSBpbnB1dElkIEVsZW1lbnQgSUQgb2YgdGhlIGlucHV0IGZpbGUgcGlja2VyIGVsZW1lbnQuCiAqIEBwYXJhbSB7c3RyaW5nfSBvdXRwdXRJZCBFbGVtZW50IElEIG9mIHRoZSBvdXRwdXQgZGlzcGxheS4KICogQHJldHVybiB7IUl0ZXJhYmxlPCFPYmplY3Q+fSBJdGVyYWJsZSBvZiBuZXh0IHN0ZXBzLgogKi8KZnVuY3Rpb24qIHVwbG9hZEZpbGVzU3RlcChpbnB1dElkLCBvdXRwdXRJZCkgewogIGNvbnN0IGlucHV0RWxlbWVudCA9IGRvY3VtZW50LmdldEVsZW1lbnRCeUlkKGlucHV0SWQpOwogIGlucHV0RWxlbWVudC5kaXNhYmxlZCA9IGZhbHNlOwoKICBjb25zdCBvdXRwdXRFbGVtZW50ID0gZG9jdW1lbnQuZ2V0RWxlbWVudEJ5SWQob3V0cHV0SWQpOwogIG91dHB1dEVsZW1lbnQuaW5uZXJIVE1MID0gJyc7CgogIGNvbnN0IHBpY2tlZFByb21pc2UgPSBuZXcgUHJvbWlzZSgocmVzb2x2ZSkgPT4gewogICAgaW5wdXRFbGVtZW50LmFkZEV2ZW50TGlzdGVuZXIoJ2NoYW5nZScsIChlKSA9PiB7CiAgICAgIHJlc29sdmUoZS50YXJnZXQuZmlsZXMpOwogICAgfSk7CiAgfSk7CgogIGNvbnN0IGNhbmNlbCA9IGRvY3VtZW50LmNyZWF0ZUVsZW1lbnQoJ2J1dHRvbicpOwogIGlucHV0RWxlbWVudC5wYXJlbnRFbGVtZW50LmFwcGVuZENoaWxkKGNhbmNlbCk7CiAgY2FuY2VsLnRleHRDb250ZW50ID0gJ0NhbmNlbCB1cGxvYWQnOwogIGNvbnN0IGNhbmNlbFByb21pc2UgPSBuZXcgUHJvbWlzZSgocmVzb2x2ZSkgPT4gewogICAgY2FuY2VsLm9uY2xpY2sgPSAoKSA9PiB7CiAgICAgIHJlc29sdmUobnVsbCk7CiAgICB9OwogIH0pOwoKICAvLyBXYWl0IGZvciB0aGUgdXNlciB0byBwaWNrIHRoZSBmaWxlcy4KICBjb25zdCBmaWxlcyA9IHlpZWxkIHsKICAgIHByb21pc2U6IFByb21pc2UucmFjZShbcGlja2VkUHJvbWlzZSwgY2FuY2VsUHJvbWlzZV0pLAogICAgcmVzcG9uc2U6IHsKICAgICAgYWN0aW9uOiAnc3RhcnRpbmcnLAogICAgfQogIH07CgogIGNhbmNlbC5yZW1vdmUoKTsKCiAgLy8gRGlzYWJsZSB0aGUgaW5wdXQgZWxlbWVudCBzaW5jZSBmdXJ0aGVyIHBpY2tzIGFyZSBub3QgYWxsb3dlZC4KICBpbnB1dEVsZW1lbnQuZGlzYWJsZWQgPSB0cnVlOwoKICBpZiAoIWZpbGVzKSB7CiAgICByZXR1cm4gewogICAgICByZXNwb25zZTogewogICAgICAgIGFjdGlvbjogJ2NvbXBsZXRlJywKICAgICAgfQogICAgfTsKICB9CgogIGZvciAoY29uc3QgZmlsZSBvZiBmaWxlcykgewogICAgY29uc3QgbGkgPSBkb2N1bWVudC5jcmVhdGVFbGVtZW50KCdsaScpOwogICAgbGkuYXBwZW5kKHNwYW4oZmlsZS5uYW1lLCB7Zm9udFdlaWdodDogJ2JvbGQnfSkpOwogICAgbGkuYXBwZW5kKHNwYW4oCiAgICAgICAgYCgke2ZpbGUudHlwZSB8fCAnbi9hJ30pIC0gJHtmaWxlLnNpemV9IGJ5dGVzLCBgICsKICAgICAgICBgbGFzdCBtb2RpZmllZDogJHsKICAgICAgICAgICAgZmlsZS5sYXN0TW9kaWZpZWREYXRlID8gZmlsZS5sYXN0TW9kaWZpZWREYXRlLnRvTG9jYWxlRGF0ZVN0cmluZygpIDoKICAgICAgICAgICAgICAgICAgICAgICAgICAgICAgICAgICAgJ24vYSd9IC0gYCkpOwogICAgY29uc3QgcGVyY2VudCA9IHNwYW4oJzAlIGRvbmUnKTsKICAgIGxpLmFwcGVuZENoaWxkKHBlcmNlbnQpOwoKICAgIG91dHB1dEVsZW1lbnQuYXBwZW5kQ2hpbGQobGkpOwoKICAgIGNvbnN0IGZpbGVEYXRhUHJvbWlzZSA9IG5ldyBQcm9taXNlKChyZXNvbHZlKSA9PiB7CiAgICAgIGNvbnN0IHJlYWRlciA9IG5ldyBGaWxlUmVhZGVyKCk7CiAgICAgIHJlYWRlci5vbmxvYWQgPSAoZSkgPT4gewogICAgICAgIHJlc29sdmUoZS50YXJnZXQucmVzdWx0KTsKICAgICAgfTsKICAgICAgcmVhZGVyLnJlYWRBc0FycmF5QnVmZmVyKGZpbGUpOwogICAgfSk7CiAgICAvLyBXYWl0IGZvciB0aGUgZGF0YSB0byBiZSByZWFkeS4KICAgIGxldCBmaWxlRGF0YSA9IHlpZWxkIHsKICAgICAgcHJvbWlzZTogZmlsZURhdGFQcm9taXNlLAogICAgICByZXNwb25zZTogewogICAgICAgIGFjdGlvbjogJ2NvbnRpbnVlJywKICAgICAgfQogICAgfTsKCiAgICAvLyBVc2UgYSBjaHVua2VkIHNlbmRpbmcgdG8gYXZvaWQgbWVzc2FnZSBzaXplIGxpbWl0cy4gU2VlIGIvNjIxMTU2NjAuCiAgICBsZXQgcG9zaXRpb24gPSAwOwogICAgd2hpbGUgKHBvc2l0aW9uIDwgZmlsZURhdGEuYnl0ZUxlbmd0aCkgewogICAgICBjb25zdCBsZW5ndGggPSBNYXRoLm1pbihmaWxlRGF0YS5ieXRlTGVuZ3RoIC0gcG9zaXRpb24sIE1BWF9QQVlMT0FEX1NJWkUpOwogICAgICBjb25zdCBjaHVuayA9IG5ldyBVaW50OEFycmF5KGZpbGVEYXRhLCBwb3NpdGlvbiwgbGVuZ3RoKTsKICAgICAgcG9zaXRpb24gKz0gbGVuZ3RoOwoKICAgICAgY29uc3QgYmFzZTY0ID0gYnRvYShTdHJpbmcuZnJvbUNoYXJDb2RlLmFwcGx5KG51bGwsIGNodW5rKSk7CiAgICAgIHlpZWxkIHsKICAgICAgICByZXNwb25zZTogewogICAgICAgICAgYWN0aW9uOiAnYXBwZW5kJywKICAgICAgICAgIGZpbGU6IGZpbGUubmFtZSwKICAgICAgICAgIGRhdGE6IGJhc2U2NCwKICAgICAgICB9LAogICAgICB9OwogICAgICBwZXJjZW50LnRleHRDb250ZW50ID0KICAgICAgICAgIGAke01hdGgucm91bmQoKHBvc2l0aW9uIC8gZmlsZURhdGEuYnl0ZUxlbmd0aCkgKiAxMDApfSUgZG9uZWA7CiAgICB9CiAgfQoKICAvLyBBbGwgZG9uZS4KICB5aWVsZCB7CiAgICByZXNwb25zZTogewogICAgICBhY3Rpb246ICdjb21wbGV0ZScsCiAgICB9CiAgfTsKfQoKc2NvcGUuZ29vZ2xlID0gc2NvcGUuZ29vZ2xlIHx8IHt9OwpzY29wZS5nb29nbGUuY29sYWIgPSBzY29wZS5nb29nbGUuY29sYWIgfHwge307CnNjb3BlLmdvb2dsZS5jb2xhYi5fZmlsZXMgPSB7CiAgX3VwbG9hZEZpbGVzLAogIF91cGxvYWRGaWxlc0NvbnRpbnVlLAp9Owp9KShzZWxmKTsK",
              "ok": true,
              "headers": [
                [
                  "content-type",
                  "application/javascript"
                ]
              ],
              "status": 200,
              "status_text": ""
            }
          },
          "base_uri": "https://localhost:8080/",
          "height": 73
        },
        "id": "za1gqvzK4rot",
        "outputId": "38881438-aa8a-4f3f-d097-b68467f818df"
      },
      "source": [
        "from google.colab import files \r\n",
        "uploaded = files.upload()"
      ],
      "execution_count": null,
      "outputs": [
        {
          "output_type": "display_data",
          "data": {
            "text/html": [
              "\n",
              "     <input type=\"file\" id=\"files-23152317-1bb8-401e-9b06-99ae6c4787a1\" name=\"files[]\" multiple disabled\n",
              "        style=\"border:none\" />\n",
              "     <output id=\"result-23152317-1bb8-401e-9b06-99ae6c4787a1\">\n",
              "      Upload widget is only available when the cell has been executed in the\n",
              "      current browser session. Please rerun this cell to enable.\n",
              "      </output>\n",
              "      <script src=\"/nbextensions/google.colab/files.js\"></script> "
            ],
            "text/plain": [
              "<IPython.core.display.HTML object>"
            ]
          },
          "metadata": {
            "tags": []
          }
        },
        {
          "output_type": "stream",
          "text": [
            "Saving obesity.csv to obesity (2).csv\n"
          ],
          "name": "stdout"
        }
      ]
    },
    {
      "cell_type": "code",
      "metadata": {
        "id": "v0nVulYc45M0"
      },
      "source": [
        "obesity=pd.read_csv('obesity.csv')"
      ],
      "execution_count": null,
      "outputs": []
    },
    {
      "cell_type": "markdown",
      "metadata": {
        "id": "Xar4Wqf1zuvN"
      },
      "source": [
        "The dataset has 2111 rows and 17 attributes. The target value is NObeyesdad (will be renamed later on) ."
      ]
    },
    {
      "cell_type": "code",
      "metadata": {
        "id": "Q7SaHe82y-ig",
        "colab": {
          "base_uri": "https://localhost:8080/",
          "height": 197
        },
        "outputId": "71a505cb-85b1-477d-cd60-7b1550d5d45c"
      },
      "source": [
        "#  Get to know the data\r\n",
        "obesity.shape\r\n",
        "obesity.head()"
      ],
      "execution_count": null,
      "outputs": [
        {
          "output_type": "execute_result",
          "data": {
            "text/html": [
              "<div>\n",
              "<style scoped>\n",
              "    .dataframe tbody tr th:only-of-type {\n",
              "        vertical-align: middle;\n",
              "    }\n",
              "\n",
              "    .dataframe tbody tr th {\n",
              "        vertical-align: top;\n",
              "    }\n",
              "\n",
              "    .dataframe thead th {\n",
              "        text-align: right;\n",
              "    }\n",
              "</style>\n",
              "<table border=\"1\" class=\"dataframe\">\n",
              "  <thead>\n",
              "    <tr style=\"text-align: right;\">\n",
              "      <th></th>\n",
              "      <th>Gender</th>\n",
              "      <th>Age</th>\n",
              "      <th>Height</th>\n",
              "      <th>Weight</th>\n",
              "      <th>family_history_with_overweight</th>\n",
              "      <th>FAVC</th>\n",
              "      <th>FCVC</th>\n",
              "      <th>NCP</th>\n",
              "      <th>CAEC</th>\n",
              "      <th>SMOKE</th>\n",
              "      <th>CH2O</th>\n",
              "      <th>SCC</th>\n",
              "      <th>FAF</th>\n",
              "      <th>TUE</th>\n",
              "      <th>CALC</th>\n",
              "      <th>MTRANS</th>\n",
              "      <th>NObeyesdad</th>\n",
              "    </tr>\n",
              "  </thead>\n",
              "  <tbody>\n",
              "    <tr>\n",
              "      <th>0</th>\n",
              "      <td>Female</td>\n",
              "      <td>21.0</td>\n",
              "      <td>1.62</td>\n",
              "      <td>64.0</td>\n",
              "      <td>yes</td>\n",
              "      <td>no</td>\n",
              "      <td>2.0</td>\n",
              "      <td>3.0</td>\n",
              "      <td>Sometimes</td>\n",
              "      <td>no</td>\n",
              "      <td>2.0</td>\n",
              "      <td>no</td>\n",
              "      <td>0.0</td>\n",
              "      <td>1.0</td>\n",
              "      <td>no</td>\n",
              "      <td>Public_Transportation</td>\n",
              "      <td>Normal_Weight</td>\n",
              "    </tr>\n",
              "    <tr>\n",
              "      <th>1</th>\n",
              "      <td>Female</td>\n",
              "      <td>21.0</td>\n",
              "      <td>1.52</td>\n",
              "      <td>56.0</td>\n",
              "      <td>yes</td>\n",
              "      <td>no</td>\n",
              "      <td>3.0</td>\n",
              "      <td>3.0</td>\n",
              "      <td>Sometimes</td>\n",
              "      <td>yes</td>\n",
              "      <td>3.0</td>\n",
              "      <td>yes</td>\n",
              "      <td>3.0</td>\n",
              "      <td>0.0</td>\n",
              "      <td>Sometimes</td>\n",
              "      <td>Public_Transportation</td>\n",
              "      <td>Normal_Weight</td>\n",
              "    </tr>\n",
              "    <tr>\n",
              "      <th>2</th>\n",
              "      <td>Male</td>\n",
              "      <td>23.0</td>\n",
              "      <td>1.80</td>\n",
              "      <td>77.0</td>\n",
              "      <td>yes</td>\n",
              "      <td>no</td>\n",
              "      <td>2.0</td>\n",
              "      <td>3.0</td>\n",
              "      <td>Sometimes</td>\n",
              "      <td>no</td>\n",
              "      <td>2.0</td>\n",
              "      <td>no</td>\n",
              "      <td>2.0</td>\n",
              "      <td>1.0</td>\n",
              "      <td>Frequently</td>\n",
              "      <td>Public_Transportation</td>\n",
              "      <td>Normal_Weight</td>\n",
              "    </tr>\n",
              "    <tr>\n",
              "      <th>3</th>\n",
              "      <td>Male</td>\n",
              "      <td>27.0</td>\n",
              "      <td>1.80</td>\n",
              "      <td>87.0</td>\n",
              "      <td>no</td>\n",
              "      <td>no</td>\n",
              "      <td>3.0</td>\n",
              "      <td>3.0</td>\n",
              "      <td>Sometimes</td>\n",
              "      <td>no</td>\n",
              "      <td>2.0</td>\n",
              "      <td>no</td>\n",
              "      <td>2.0</td>\n",
              "      <td>0.0</td>\n",
              "      <td>Frequently</td>\n",
              "      <td>Walking</td>\n",
              "      <td>Overweight_Level_I</td>\n",
              "    </tr>\n",
              "    <tr>\n",
              "      <th>4</th>\n",
              "      <td>Male</td>\n",
              "      <td>22.0</td>\n",
              "      <td>1.78</td>\n",
              "      <td>89.8</td>\n",
              "      <td>no</td>\n",
              "      <td>no</td>\n",
              "      <td>2.0</td>\n",
              "      <td>1.0</td>\n",
              "      <td>Sometimes</td>\n",
              "      <td>no</td>\n",
              "      <td>2.0</td>\n",
              "      <td>no</td>\n",
              "      <td>0.0</td>\n",
              "      <td>0.0</td>\n",
              "      <td>Sometimes</td>\n",
              "      <td>Public_Transportation</td>\n",
              "      <td>Overweight_Level_II</td>\n",
              "    </tr>\n",
              "  </tbody>\n",
              "</table>\n",
              "</div>"
            ],
            "text/plain": [
              "   Gender   Age  Height  ...        CALC                 MTRANS           NObeyesdad\n",
              "0  Female  21.0    1.62  ...          no  Public_Transportation        Normal_Weight\n",
              "1  Female  21.0    1.52  ...   Sometimes  Public_Transportation        Normal_Weight\n",
              "2    Male  23.0    1.80  ...  Frequently  Public_Transportation        Normal_Weight\n",
              "3    Male  27.0    1.80  ...  Frequently                Walking   Overweight_Level_I\n",
              "4    Male  22.0    1.78  ...   Sometimes  Public_Transportation  Overweight_Level_II\n",
              "\n",
              "[5 rows x 17 columns]"
            ]
          },
          "metadata": {
            "tags": []
          },
          "execution_count": 6
        }
      ]
    },
    {
      "cell_type": "markdown",
      "metadata": {
        "id": "5nPaDfZVNlRZ"
      },
      "source": [
        "Let us start by giving some of the variables self explanatory names to make understanding and usability easier\r\n"
      ]
    },
    {
      "cell_type": "code",
      "metadata": {
        "id": "70ktnIfZGn7q"
      },
      "source": [
        "obesity.rename(columns={'Gender':'gender','Age':'age','Height':'height','Weight':'weight','family_history_with_overweight':'family_ow_hist',\r\n",
        "                'FAVC': 'freq_high_cal_food','FCVC': 'freq_consume_veg','NCP': 'no_main_meals','CAEC': 'food_bn_meals','SMOKE':'smoke',\r\n",
        "                'CH2O': 'daily_water','SCC': 'monitor_cal','FAF': 'freq_phy_activity','TUE': 'time_tech_device',\r\n",
        "                'CALC': 'cons_alchol','MTRANS': 'transportation','NObeyesdad': 'obes_level'}, inplace=True)"
      ],
      "execution_count": null,
      "outputs": []
    },
    {
      "cell_type": "code",
      "metadata": {
        "id": "HW4mbv3MB9nw",
        "colab": {
          "base_uri": "https://localhost:8080/",
          "height": 217
        },
        "outputId": "d17fdf66-e847-4b4b-8e71-2b4f321d2f88"
      },
      "source": [
        "obesity.head()"
      ],
      "execution_count": null,
      "outputs": [
        {
          "output_type": "execute_result",
          "data": {
            "text/html": [
              "<div>\n",
              "<style scoped>\n",
              "    .dataframe tbody tr th:only-of-type {\n",
              "        vertical-align: middle;\n",
              "    }\n",
              "\n",
              "    .dataframe tbody tr th {\n",
              "        vertical-align: top;\n",
              "    }\n",
              "\n",
              "    .dataframe thead th {\n",
              "        text-align: right;\n",
              "    }\n",
              "</style>\n",
              "<table border=\"1\" class=\"dataframe\">\n",
              "  <thead>\n",
              "    <tr style=\"text-align: right;\">\n",
              "      <th></th>\n",
              "      <th>gender</th>\n",
              "      <th>age</th>\n",
              "      <th>height</th>\n",
              "      <th>weight</th>\n",
              "      <th>family_ow_hist</th>\n",
              "      <th>freq_high_cal_food</th>\n",
              "      <th>freq_consume_veg</th>\n",
              "      <th>no_main_meals</th>\n",
              "      <th>food_bn_meals</th>\n",
              "      <th>smoke</th>\n",
              "      <th>daily_water</th>\n",
              "      <th>monitor_cal</th>\n",
              "      <th>freq_phy_activity</th>\n",
              "      <th>time_tech_device</th>\n",
              "      <th>cons_alchol</th>\n",
              "      <th>transportation</th>\n",
              "      <th>obes_level</th>\n",
              "    </tr>\n",
              "  </thead>\n",
              "  <tbody>\n",
              "    <tr>\n",
              "      <th>0</th>\n",
              "      <td>Female</td>\n",
              "      <td>21.0</td>\n",
              "      <td>1.62</td>\n",
              "      <td>64.0</td>\n",
              "      <td>yes</td>\n",
              "      <td>no</td>\n",
              "      <td>2.0</td>\n",
              "      <td>3.0</td>\n",
              "      <td>Sometimes</td>\n",
              "      <td>no</td>\n",
              "      <td>2.0</td>\n",
              "      <td>no</td>\n",
              "      <td>0.0</td>\n",
              "      <td>1.0</td>\n",
              "      <td>no</td>\n",
              "      <td>Public_Transportation</td>\n",
              "      <td>Normal_Weight</td>\n",
              "    </tr>\n",
              "    <tr>\n",
              "      <th>1</th>\n",
              "      <td>Female</td>\n",
              "      <td>21.0</td>\n",
              "      <td>1.52</td>\n",
              "      <td>56.0</td>\n",
              "      <td>yes</td>\n",
              "      <td>no</td>\n",
              "      <td>3.0</td>\n",
              "      <td>3.0</td>\n",
              "      <td>Sometimes</td>\n",
              "      <td>yes</td>\n",
              "      <td>3.0</td>\n",
              "      <td>yes</td>\n",
              "      <td>3.0</td>\n",
              "      <td>0.0</td>\n",
              "      <td>Sometimes</td>\n",
              "      <td>Public_Transportation</td>\n",
              "      <td>Normal_Weight</td>\n",
              "    </tr>\n",
              "    <tr>\n",
              "      <th>2</th>\n",
              "      <td>Male</td>\n",
              "      <td>23.0</td>\n",
              "      <td>1.80</td>\n",
              "      <td>77.0</td>\n",
              "      <td>yes</td>\n",
              "      <td>no</td>\n",
              "      <td>2.0</td>\n",
              "      <td>3.0</td>\n",
              "      <td>Sometimes</td>\n",
              "      <td>no</td>\n",
              "      <td>2.0</td>\n",
              "      <td>no</td>\n",
              "      <td>2.0</td>\n",
              "      <td>1.0</td>\n",
              "      <td>Frequently</td>\n",
              "      <td>Public_Transportation</td>\n",
              "      <td>Normal_Weight</td>\n",
              "    </tr>\n",
              "    <tr>\n",
              "      <th>3</th>\n",
              "      <td>Male</td>\n",
              "      <td>27.0</td>\n",
              "      <td>1.80</td>\n",
              "      <td>87.0</td>\n",
              "      <td>no</td>\n",
              "      <td>no</td>\n",
              "      <td>3.0</td>\n",
              "      <td>3.0</td>\n",
              "      <td>Sometimes</td>\n",
              "      <td>no</td>\n",
              "      <td>2.0</td>\n",
              "      <td>no</td>\n",
              "      <td>2.0</td>\n",
              "      <td>0.0</td>\n",
              "      <td>Frequently</td>\n",
              "      <td>Walking</td>\n",
              "      <td>Overweight_Level_I</td>\n",
              "    </tr>\n",
              "    <tr>\n",
              "      <th>4</th>\n",
              "      <td>Male</td>\n",
              "      <td>22.0</td>\n",
              "      <td>1.78</td>\n",
              "      <td>89.8</td>\n",
              "      <td>no</td>\n",
              "      <td>no</td>\n",
              "      <td>2.0</td>\n",
              "      <td>1.0</td>\n",
              "      <td>Sometimes</td>\n",
              "      <td>no</td>\n",
              "      <td>2.0</td>\n",
              "      <td>no</td>\n",
              "      <td>0.0</td>\n",
              "      <td>0.0</td>\n",
              "      <td>Sometimes</td>\n",
              "      <td>Public_Transportation</td>\n",
              "      <td>Overweight_Level_II</td>\n",
              "    </tr>\n",
              "  </tbody>\n",
              "</table>\n",
              "</div>"
            ],
            "text/plain": [
              "   gender   age  height  ...  cons_alchol         transportation           obes_level\n",
              "0  Female  21.0    1.62  ...           no  Public_Transportation        Normal_Weight\n",
              "1  Female  21.0    1.52  ...    Sometimes  Public_Transportation        Normal_Weight\n",
              "2    Male  23.0    1.80  ...   Frequently  Public_Transportation        Normal_Weight\n",
              "3    Male  27.0    1.80  ...   Frequently                Walking   Overweight_Level_I\n",
              "4    Male  22.0    1.78  ...    Sometimes  Public_Transportation  Overweight_Level_II\n",
              "\n",
              "[5 rows x 17 columns]"
            ]
          },
          "metadata": {
            "tags": []
          },
          "execution_count": 8
        }
      ]
    },
    {
      "cell_type": "markdown",
      "metadata": {
        "id": "DTBee0XmMsLJ"
      },
      "source": [
        "\r\n",
        "## **Data Exploration**\r\n",
        "\r\n"
      ]
    },
    {
      "cell_type": "markdown",
      "metadata": {
        "id": "hBaWIVuqzVMi"
      },
      "source": [
        "As seen on the results (below), the dataset doesn't have any missing values and we are good to go."
      ]
    },
    {
      "cell_type": "code",
      "metadata": {
        "id": "cd7hdd5F5FTC",
        "colab": {
          "base_uri": "https://localhost:8080/"
        },
        "outputId": "fbff896b-db5a-48db-9aff-d5bcfbc347c7"
      },
      "source": [
        "# Check if there are missing values\r\n",
        "obesity.isnull().mean()"
      ],
      "execution_count": null,
      "outputs": [
        {
          "output_type": "execute_result",
          "data": {
            "text/plain": [
              "gender                0.0\n",
              "age                   0.0\n",
              "height                0.0\n",
              "weight                0.0\n",
              "family_ow_hist        0.0\n",
              "freq_high_cal_food    0.0\n",
              "freq_consume_veg      0.0\n",
              "no_main_meals         0.0\n",
              "food_bn_meals         0.0\n",
              "smoke                 0.0\n",
              "daily_water           0.0\n",
              "monitor_cal           0.0\n",
              "freq_phy_activity     0.0\n",
              "time_tech_device      0.0\n",
              "cons_alchol           0.0\n",
              "transportation        0.0\n",
              "obes_level            0.0\n",
              "dtype: float64"
            ]
          },
          "metadata": {
            "tags": []
          },
          "execution_count": 9
        }
      ]
    },
    {
      "cell_type": "markdown",
      "metadata": {
        "id": "FVp2H7yg0dEH"
      },
      "source": [
        "What does the data look like? What types of data are in the dataset?"
      ]
    },
    {
      "cell_type": "code",
      "metadata": {
        "id": "_RkIygdWuKYd",
        "colab": {
          "base_uri": "https://localhost:8080/"
        },
        "outputId": "a6df3c85-00cb-483e-bb21-671c7c95be7e"
      },
      "source": [
        "obesity.head().info()"
      ],
      "execution_count": null,
      "outputs": [
        {
          "output_type": "stream",
          "text": [
            "<class 'pandas.core.frame.DataFrame'>\n",
            "RangeIndex: 5 entries, 0 to 4\n",
            "Data columns (total 17 columns):\n",
            " #   Column              Non-Null Count  Dtype  \n",
            "---  ------              --------------  -----  \n",
            " 0   gender              5 non-null      object \n",
            " 1   age                 5 non-null      float64\n",
            " 2   height              5 non-null      float64\n",
            " 3   weight              5 non-null      float64\n",
            " 4   family_ow_hist      5 non-null      object \n",
            " 5   freq_high_cal_food  5 non-null      object \n",
            " 6   freq_consume_veg    5 non-null      float64\n",
            " 7   no_main_meals       5 non-null      float64\n",
            " 8   food_bn_meals       5 non-null      object \n",
            " 9   smoke               5 non-null      object \n",
            " 10  daily_water         5 non-null      float64\n",
            " 11  monitor_cal         5 non-null      object \n",
            " 12  freq_phy_activity   5 non-null      float64\n",
            " 13  time_tech_device    5 non-null      float64\n",
            " 14  cons_alchol         5 non-null      object \n",
            " 15  transportation      5 non-null      object \n",
            " 16  obes_level          5 non-null      object \n",
            "dtypes: float64(8), object(9)\n",
            "memory usage: 808.0+ bytes\n"
          ],
          "name": "stdout"
        }
      ]
    },
    {
      "cell_type": "markdown",
      "metadata": {
        "id": "t4kw5yvVLCbL"
      },
      "source": [
        "What does the distribution of data look like  with respect to the target variable? This helps to decide what percentage is acceptable in order to say a model is good or not."
      ]
    },
    {
      "cell_type": "code",
      "metadata": {
        "id": "cFF8jA9p5J9w",
        "colab": {
          "base_uri": "https://localhost:8080/"
        },
        "outputId": "4cebe7e6-18a6-447b-8ff8-5ad194e5cd8f"
      },
      "source": [
        "obesity[\"obes_level\"].value_counts(normalize=True).sort_index()"
      ],
      "execution_count": null,
      "outputs": [
        {
          "output_type": "execute_result",
          "data": {
            "text/plain": [
              "Insufficient_Weight    0.128849\n",
              "Normal_Weight          0.135955\n",
              "Obesity_Type_I         0.166272\n",
              "Obesity_Type_II        0.140692\n",
              "Obesity_Type_III       0.153482\n",
              "Overweight_Level_I     0.137376\n",
              "Overweight_Level_II    0.137376\n",
              "Name: obes_level, dtype: float64"
            ]
          },
          "metadata": {
            "tags": []
          },
          "execution_count": 11
        }
      ]
    },
    {
      "cell_type": "markdown",
      "metadata": {
        "id": "ZP45qY_V-KTs"
      },
      "source": [
        "As seen above and on the visualiation, there is a good proportion of data in each of the classes. Thus, problems related with imbalanced data won't be an issue on this dataset."
      ]
    },
    {
      "cell_type": "code",
      "metadata": {
        "id": "GZS3fmYC56N6",
        "colab": {
          "base_uri": "https://localhost:8080/",
          "height": 498
        },
        "outputId": "b1d54c9e-f47e-46fb-8bc8-2fd5462eaf71"
      },
      "source": [
        "plt.figure(figsize=(12,8))\r\n",
        "sns.countplot(x=obesity[\"obes_level\"])\r\n",
        "plt.show()"
      ],
      "execution_count": null,
      "outputs": [
        {
          "output_type": "display_data",
          "data": {
            "image/png": "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\n",
            "text/plain": [
              "<Figure size 864x576 with 1 Axes>"
            ]
          },
          "metadata": {
            "tags": [],
            "needs_background": "light"
          }
        }
      ]
    },
    {
      "cell_type": "markdown",
      "metadata": {
        "id": "pVy3ZUsb6WNn"
      },
      "source": [
        " Encode catagorical values before we can use them to fit & evaluate a model. Let us start by encoding the target variable, \"obes_level\",  code it by considering the ordinality of the values (1 and 7 imply underweight and Obesity level III, respectivelly)."
      ]
    },
    {
      "cell_type": "code",
      "metadata": {
        "id": "aRvW1VONmovb"
      },
      "source": [
        "# Encode 'obes_level' in to numeric values\r\n",
        "mapper = {'Insufficient_Weight': 1, 'Normal_Weight': 2, \"Overweight_Level_I\":3, \"Overweight_Level_II\":4,\r\n",
        "           \"Obesity_Type_I\":5,\"Obesity_Type_II\":6,\"Obesity_Type_III\":7}\r\n",
        "obesity=obesity.replace({\"obes_level\": mapper})\r\n",
        "obesity['obes_level']=obesity['obes_level'].astype(int)"
      ],
      "execution_count": null,
      "outputs": []
    },
    {
      "cell_type": "markdown",
      "metadata": {
        "id": "cxf1J4LP4WgN"
      },
      "source": [
        "Let us identify numeric and non-numeric values and prepare them for encoding as most machine learning algorithms require input and output variables to be numbers."
      ]
    },
    {
      "cell_type": "code",
      "metadata": {
        "id": "7F5CtL6C8-03"
      },
      "source": [
        "# Label data with respect to their data types\r\n",
        "cat_cols=[col for col in obesity if (obesity[col].dtype=='O')]\r\n",
        "# Ordinal categories\r\n",
        "ord_cat=['food_bn_meals','cons_alchol']\r\n",
        "# Numeric columns\r\n",
        "num_cols=[col for col in obesity if col not in cat_cols]\r\n",
        "\r\n",
        "for item in cat_cols:\r\n",
        "  if item in ord_cat:\r\n",
        "    cat_cols.remove(item)\r\n",
        "\r\n",
        "drop_cats=['Female','no','no', 'no','no','Public_Transportation']\r\n"
      ],
      "execution_count": null,
      "outputs": []
    },
    {
      "cell_type": "markdown",
      "metadata": {
        "id": "A6BqtuVs0yLI"
      },
      "source": [
        "Plot boxplot for numeric variables in order to check the presence of outliers.From the results on the box plot, we don't have many outliers, but the variable Age seems to have some. which will be addressed later."
      ]
    },
    {
      "cell_type": "code",
      "metadata": {
        "id": "DkncJDF8X_Gk",
        "colab": {
          "base_uri": "https://localhost:8080/",
          "height": 1000
        },
        "outputId": "8ff02847-775b-4002-f020-285e94b600f1"
      },
      "source": [
        "# Draw boxplot inorder to see if there are outliers in the dataset\r\n",
        "for col in obesity[num_cols]:\r\n",
        "    plt.figure()\r\n",
        "    plt.title('Box plot : {}'.format(col))\r\n",
        "    obesity.boxplot([col])"
      ],
      "execution_count": null,
      "outputs": [
        {
          "output_type": "display_data",
          "data": {
            "image/png": "iVBORw0KGgoAAAANSUhEUgAAAXAAAAEICAYAAABGaK+TAAAABHNCSVQICAgIfAhkiAAAAAlwSFlzAAALEgAACxIB0t1+/AAAADh0RVh0U29mdHdhcmUAbWF0cGxvdGxpYiB2ZXJzaW9uMy4yLjIsIGh0dHA6Ly9tYXRwbG90bGliLm9yZy+WH4yJAAAVCUlEQVR4nO3df5BV5Z3n8fcXhCDgT8y0/DCSqWQmTcGqY282MewGxMHJjCZsmdKxmGAGdsn+kGRrJpWQuG7i1BKMm9qMk1Rq4gRXsjPBoAmYSSqSDHanyt2KBmYUgU45UWRtFU1QGTsa09189497mmmwoW9Dd18e7vtVdeve89xz7vmC1w/Pfc6PJzITSVJ5xjW6AEnS8THAJalQBrgkFcoAl6RCGeCSVCgDXJIKZYCraUTE7IjIiDit0bVII8EA15iIiKci4rWI6I6IlyLiexFxQaPrOpqI+GxE/HWj65COxQDXWLo6M6cC04HngS81uB6paAa4xlxm/gq4F5jT3xYRZ0XE1yPi5xGxNyL+a0SMi4hzI6IrIq6u1psaET+LiGWDfXZEdETE2oh4OCL+KSLui4hzj7LujIj4TkS8WH3mv6/afw/4NHBd9Yvh0eP5c0bE7RHxdFXH9oj41wPeOz0i1le/Rjoj4hMR0XVEbd+q/j72RMRHj6cGndoMcI25iJgMXAf8eEDzl4CzgN8E3gssA/44M18ElgN/FRG/AXwReCQzv36MXSyrtpkO9AJ/cZT17ga6gBnAB4HPRcTlmXk/8Dngm5k5NTMvOsqf4ysR8ZVj1PET4GLgXOAbwD0RMal67zPA7OrP+7vAHw343HHA3wKPAjOBRcB/iYgrj7EvNaPM9OFj1B/AU0A38DLQAzwLzKveGw/8GpgzYP2PAB0Dlr8EPAY8A0w7xn46gFsHLM+pPns8tcBM4DTgAqAPOGPAumuBu6rXnwX+eoT/Dl4CLqpePwlcOeC9fwd0Va//FfD/jtj2U8D/avR/Rx8n18MeuMbSksw8G5gE3Aj8KCLOB84DJgB7B6y7l1rvs98dwFxqAbt/iP08fcTnTKj2MdAM4MXMfOUY+zwhEfHxanjkQES8TO0XRn8dM46oc+DrC4EZEfFy/4PakE7LSNWmU4MBrjGXmX2Z+W1qPeD5wC+o9covHLDaW6j1tomI8dQC/OvAf4qItw2xi4Fnt7yl+uxfHLHOs8C5EXHGYPuk1lM/btV49yeAa4Fzqn+4DgBRrfIcMOsoNT8N7MnMswc8zsjM3z+RmnTqMcA15qLmA8A5QGdm9gEbgTURcUZEXAj8CdB/Gt+nqQXqcuB/AF+vQv1o/igi5lRj7X8G3Fvt45DMfBr4v8DaiJgUEf8CWDFgn88Ds6vx6ONxBrXx958Dp0XEfwPOHPD+RuBTEXFORMyk9ouk38PAKxHxyepg5/iImBsR//I4a9EpygDXWPrbiOgG/glYA9yQmbuq91YBv6Q2NvwgtYN+d0bEpdTCfFkVwp+nFuarj7Gf/w3cBeyjNlxztDM4rqc2Lv4ssAn4TGb+XfXePdXz/oj4+8E2joi/jIi/PMpnbwHuBx6nNjTzKw4fJvkzagdQ9wB/R+2snNeh9gsFuIraAdA91H49fI3aEIx0SGQ6oYNOHRHRQe3g49caXctwRMR/BP4wM9/b6FpUDnvgUgNExPSIeE91rvtvA39K7VeAVDfvCSE1xkTgq8BbqZ1aeTdwrHPKpTdwCEWSCuUQiiQVakyHUM4777ycPXv2WO5Sqssvf/lLpkyZ0ugypEFt3779F5n55iPbxzTAZ8+ezbZt28Zyl1JdOjo6WLBgQaPLkAYVEXsHa3cIRZIKZYBLUqEMcEkqlAEuSYUywCWpUAa4mtqGDRuYO3cuixYtYu7cuWzYsKHRJUl181J6Na0NGzZw0003sW7dOvr6+hg/fjwrVqwA4Prrr29wddLQ7IGraa1Zs4Z169axcOFCTjvtNBYuXMi6detYs2ZNo0uT6mKAq2l1dnYyf/78w9rmz59PZ2dngyqShqeuAI+IsyPi3oj4aTXH37sj4tyI+GFE/GP1fM5oFyuNpNbWVh588MHD2h588EFaW1sbVJE0PPX2wG8H7s/MdwAXAZ3UZkTZmplvB7Zy7BlSpJPOTTfdxIoVK2hvb6e3t5f29nZWrFjBTTfd1OjSpLoMeRAzIs4C/g3wYYDM/DXw62pOwwXVauuBDuCTo1GkNBr6D1SuWrWKzs5OWltbWbNmjQcwVYwh7wceERdTmxF8N7Xe93bgY8Az1UzbREQAL/UvH7H9SmAlQEtLy6V33333iP4BpJHQ3d3N1KlTG12GNKiFCxduz8y2I9vrCfA24MfAezLzoYi4ndqktKsGBnZEvJSZxxwHb2trS+9GqJORdyPUySwiBg3wesbAu4CuzHyoWr4X+B3g+YiYXn34dOCFkSpWkjS0IQM8M/cBT1cTrwIsojac8h3ghqrtBuC+UalQkjSoeq/EXAX8TURMBJ4E/pha+G+MiBXAXuDa0SlRkjSYugI8Mx8B3jD+Qq03LklqAK/ElKRCGeCSVCgDXJIKZYBLUqEMcEkqlAEuSYUywCWpUAa4JBXKAFdTc1JjlcxJjdW0nNRYpbMHrqblpMYqnQGuptXZ2UlXV9dhQyhdXV1OaqxiDDmhw0hyQgedTC644AKee+45+vr6DrWNHz+e6dOn8/TTTzewMulwJzKhg3RK2rdvH319fVx22WXcc889XHbZZfT19bFv375GlybVxQBX0+rt7eWSSy7hwIEDXHfddRw4cIBLLrmE3t7eRpcm1cUAV1O7+eab2blzJ1u3bmXnzp3cfPPNjS5JqpsBrqa2dOlS2tvb6e3tpb29naVLlza6JKlungeupjVv3jwee+wx3v/+99Pd3c3UqVN57bXXmDdvXqNLk+piD1xNa8eOHcybN4/u7m4Auru7mTdvHjt27GhwZVJ9DHA1tR07dpCZtLe3k5mGt4pigEtSoQxwSSqUAS5JhTLAJalQBrgkFcoAV1NzQgeVzAt51LSc0EGlsweupuWEDiqdAa6m1dnZyfz58w9rmz9/vhM6qBgOoahptba2csstt7B582Y6OztpbW1lyZIltLa2Nro0qS72wNW0Fi5cyNq1a9m/fz8A+/fvZ+3atSxcuLDBlUn1McDVtDZv3syZZ57JpEmTyEwmTZrEmWeeyebNmxtdmlQXA1xNq6uri40bN7Jnzx4eeOAB9uzZw8aNG+nq6mp0aVJd6hoDj4ingFeAPqA3M9si4lzgm8Bs4Cng2sx8aXTKlCQdaTg98IWZefGAmZFXA1sz8+3A1mpZKsasWbNYtmzZYTPyLFu2jFmzZjW6NKkuJzKE8gFgffV6PbDkxMuRxs5tt91GX18fy5cvZ/HixSxfvpy+vj5uu+22Rpcm1aXeAE/gBxGxPSJWVm0tmflc9Xof0DLi1Umj6Prrr+f2229nypQpRARTpkzh9ttv9ypMFaPe88DnZ+YzEfEbwA8j4qcD38zMjIgcbMMq8FcCtLS00NHRcSL1SiNq+vTpfPnLXz40Jybgd1TFqCvAM/OZ6vmFiNgEvBN4PiKmZ+ZzETEdeOEo294B3AHQ1taWCxYsGJHCpZHU0dGB302VZsghlIiYEhFn9L8GFgM7ge8AN1Sr3QDcN1pFSpLeqJ4eeAuwKSL61/9GZt4fET8BNkbECmAvcO3olSlJOtKQAZ6ZTwIXDdK+H1g0GkVJkobmlZiSVCgDXE3NGXlUMm8nq6bljDwqXWQOevr2qGhra8tt27aN2f6kY5k7dy5Llix5w/3AN2/ezM6dOxtdnnRIRGwfcBuTQ+yBq2nt3r2bV1999Q098KeeeqrRpUl1cQxcTWvixInceOONh82JeeONNzJx4sRGlybVxSEUNa1x48Yxbdo0pk6dyt69e7nwwgvp7u5m//79HDx4sNHlSYccbQjFHria1syZM+np6QGgulCNnp4eZs6c2ciypLo5Bq6mNnnyZO68885DY+BLly5tdElS3QxwNa1nn32Wj3zkI7zvfe/j9ddf501vehPLly/nq1/9aqNLk+pigKtpzZgxg82bN/P973//sB74jBkzGl2aVBfHwNXUjjyIP5YH9aUTZQ9cTevZZ5/lrrvuYtWqVYcu5Lntttv48Ic/3OjSpLp4GqGa1ty5czn99NPZvn07mUlEcOmll/Laa695JaZOKp5GKB1h3LhxbNu2jauvvppNmzZx9dVXs23bNsaN838LlcFvqprWzp07ueKKK3jiiSe45ppreOKJJ7jiiivsfasYjoGraWUm9957L2edddahOTEPHDjA2Wef3ejSpLoY4GpaEcE111zDvn37Dh3EPP/88w9dlSmd7AxwNa25c+eydevWQ8u7du1i165dzJs3r4FVSfVzDFxN6/HHHx9Wu3SyMcDVtF5//XUAWlpaDnvub5dOdg6hqKlNnjyZDRs2HLqU/qqrruLVV19tdFlSXeyBq6n13072aMvSycweuJpaT08PixYtOnQlpvdCUUnsgatpTZkyBfjnG1j1P/e3Syc7A1xNq/9gZf953/3PHsRUKQxwNa3e3l6mTZt2WNu0adPo7e1tUEXS8DgGrqb24osv8oUvfIE5c+awe/duPv7xjze6JKluBria3urVq+np6WHChAmNLkUaFgNcTS0zD5066CmEKo1j4JJUKANckgplgEtSoeoO8IgYHxH/EBHfrZbfGhEPRcTPIuKbETFx9MqURs+R54FLpRhOD/xjQOeA5c8DX8zMtwEvAStGsjBprBx5JaZUiroCPCJmAX8AfK1aDuBy4N5qlfXAktEoUJI0uHp74H8OfAI4WC1PA17OzP5L1rqAmSNcmyTpGIY8DzwirgJeyMztEbFguDuIiJXASqjdML+jo2O4HyGNOb+nKkEMNe4XEWuBDwG9wCTgTGATcCVwfmb2RsS7gc9m5pXH+qy2trbctm3biBQunahjHbR0PFwnk4jYnpltR7YPOYSSmZ/KzFmZORv4Q+CBzFwKtAMfrFa7AbhvBOuVJA3hRM4D/yTwJxHxM2pj4utGpiRJUj2GdS+UzOwAOqrXTwLvHPmSJEn18EpMSSqUAS5JhTLAJalQBrgkFcoAl6RCGeCSVCgDXJIKZYBLUqEMcEkqlAEuSYUywCWpUAa4JBXKAJekQhnganoTJkw47FkqhQGupjZ58mR6enoA6OnpYfLkyQ2uSKrfsO4HLp1qenp6eOCBB+jr62P8+PFceeUxZwWUTioGuE5Jx5rvcqCenh4uv/zy497euTPVSA6h6JSUmUM+Fi9ePOi2ixcvrmt7w1uNZoCraW3ZsoXFixcf6m1HBIsXL2bLli0NrkyqjwGuprZlyxYOHjzIhZ/8LgcPHjS8VRQDXJIKZYBLUqEMcEkqlAEuSYUywCWpUAa4JBXKAJekQhngklQoA1ySCmWAS1KhDHBJKpQBLkmFMsAlqVBDBnhETIqIhyPi0YjYFRG3VO1vjYiHIuJnEfHNiJg4+uVKkvrV0wN/Hbg8My8CLgZ+LyLeBXwe+GJmvg14CVgxemVKko40ZIBnTXe1OKF6JHA5cG/Vvh5YMioVSpIGVdcYeESMj4hHgBeAHwJPAC9nZm+1Shcwc3RKlCQNpq5L5L5L5L5L5L5L5L5L5L5L5L5L5L5L5L5L5L5L5L5L5L5L5L5L5L5L5L5L5L5L5L5L5L5L5L5L5L5L5L5L5L5L5L5L5L5L5L5L5L5L5L5L5L5L5L5L5L5L5L5L5L5L5L5L5L5L5L5L5L5L5L5L5L5L5L5L5L5L5L5L5L5L5L5L5L5L5L5L5L5L5L5L5L5L5L5L5L5L5L5L5L5L5L5L5L5L5L5L5L5L5L5L5L5L5L5L5L5L5L5L5L5L5L5L5L5L5L5L5L